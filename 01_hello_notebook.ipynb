{
 "cells": [
  {
   "cell_type": "markdown",
   "source": [
    "# Jupyter Notebook Shortcuts\n",
    "**Jupyter Notebook** มี input mode 2 modes ได้แก่ **Commmand Mode** และ **Edit Mode** ใครเคยใช้ `vim` มาก่อน ก็จะเข้าใจได้เลยทันที ส่วนใครไม่เคยใช้ `vim` text editor มาก่อน ก็ควรใช้เวลาสัก 2-3 ชม หัดพื้นฐานของ text editor ตัวนี้ดูครับ **แนะนำอย่างยิ่ง**\n",
    "\n",
    "เราสลับไปมาระหว่าง 2 โหมดนี้่ได้ด้วย `[Esc]` และ `[Enter]` คีย์ และสังเกต**สีด้านซ้ายของ cell** ด้วย ว่าเป็น **สีเขียว** หรือเป็น **สีฟ้า**"
   ],
   "metadata": {
    "collapsed": false
   },
   "id": "cdfa47dee09808f7"
  },
  {
   "cell_type": "markdown",
   "source": [
    "## Jupyter Notebook Command Mode Shortcuts\n",
    "**Command mode**  ช็อตคัตใน edit mode มีที่สำคัญดังนี้:\n",
    "\n",
    "* `Arrow Up/Arrow Down` : Navigate between cells\n",
    "* `A`: Insert a new cell above the current cell.\n",
    "* `B`: Insert a new cell below the current cell.\n",
    "* `C`: Copy the selected cell.\n",
    "* `V`: Paste the copied cell below the current cell.\n",
    "* `D`: Delete the selected cell.\n",
    "* `Z`: Undo the last cell operation.\n",
    "* `M`: Convert the selected cell to a markdown cell.\n",
    "* `Y`: Convert the selected cell to a code cell.\n",
    "* `Shift` + `Arrow Up/Arrow Down`: Select multiple cells.\n",
    "* `Shift` + `M`: Merge selected cells.\n",
    "* `Shift` + `Enter` : Run the current cell and move the cursor to the next cell.\n",
    "* `Ctrl` + `Enter` : Run the current cell without moving the cursor.\n",
    "* `Alt` + `Arrow Up/Arrow Down`: Move current cell up or down"
   ],
   "metadata": {
    "collapsed": false
   },
   "id": "ba0e79be45169b2a"
  },
  {
   "cell_type": "markdown",
   "source": [
    "## Jupyter Notebook Edit Mode Shortcuts\n",
    "\n",
    "**Edit mode** ช็อตคัตใน edit mode มีที่สำคัญดังนี้:\n",
    "\n",
    "* `Tab`: Code completion or indent.\n",
    "* `Ctrl` + `Shift` + `–`: Split the current cell at the cursor.\n",
    "* `Ctrl` + `]`: Indent.\n",
    "* `Ctrl` + `[`: Dedent.\n",
    "* `Ctrl` + `A`: Select all.\n",
    "* `Ctrl` + `Z`: Undo.\n",
    "* `Ctrl` + `Y`: Redo.\n",
    "* `Ctrl` + `Home`: Go to cell start.\n",
    "* `Ctrl` + `End`: Go to cell end.\n"
   ],
   "metadata": {
    "collapsed": false
   },
   "id": "1509cde40919b775"
  },
  {
   "cell_type": "markdown",
   "source": [
    "**Tips**\n",
    "\n",
    "* คลิกด้านซ้ายของ cell (ตรงช่องว่างเหมือนย่อหน้า) select cell\n",
    "* คลิก `...` ที่ด้านหลัง Output สามารถเคลียร์ผลลัพธ์ได้\n",
    "* เคลียร์ outputs ทั้งหมด ให้ทำที่ toolbar ปุ่มไม้กวาด\n",
    "* หากมีปัญหา เราสามารถ **Run All** หรือ **Restart Kernel** ได้ จาก toolbar เช่นกัน"
   ],
   "metadata": {
    "collapsed": false
   },
   "id": "3f1c8cfc41970c83"
  },
  {
   "cell_type": "code",
   "execution_count": 8,
   "outputs": [],
   "source": [
    "# TODO - จงฝึกหัดใช้ command shortcuts ด้านบนให้คล่องแคล่ว"
   ],
   "metadata": {
    "collapsed": false,
    "ExecuteTime": {
     "end_time": "2023-10-01T04:31:16.852366Z",
     "start_time": "2023-10-01T04:31:16.830923Z"
    }
   },
   "id": "8f6e5cb120b6514c"
  },
  {
   "cell_type": "markdown",
   "source": [
    "## Command Line Interface (CLI)\n",
    "\n",
    "เราสามารถเรียก **command line** ขึ้นมาใช้งานใน `code cell` ได้ โดยการใช้ **`%`** นำหน้า"
   ],
   "metadata": {
    "collapsed": false
   },
   "id": "e960012b4449c47"
  },
  {
   "cell_type": "code",
   "execution_count": 9,
   "outputs": [
    {
     "name": "stdout",
     "output_type": "stream",
     "text": [
      "total 32\r\n",
      "-rw-r--r--  1 worajedt  staff  6220 Oct  1 11:31 01_hello_notebook.ipynb\r\n",
      "-rw-r--r--@ 1 worajedt  staff  3285 Oct  1 09:24 readme.md\r\n",
      "-rw-r--r--  1 worajedt  staff  2711 Oct  1 03:22 requirements.txt\r\n",
      "drwxr-xr-x  8 worajedt  staff   256 Oct  1 11:16 \u001B[34mvenv\u001B[m\u001B[m/\r\n"
     ]
    }
   ],
   "source": [
    "%ls -l"
   ],
   "metadata": {
    "collapsed": false,
    "ExecuteTime": {
     "end_time": "2023-10-01T04:31:16.971056Z",
     "start_time": "2023-10-01T04:31:16.835683Z"
    }
   },
   "id": "e3fe3b76b31c93ea"
  },
  {
   "cell_type": "code",
   "execution_count": 10,
   "outputs": [
    {
     "data": {
      "text/plain": "'/Users/worajedt/DataspellProjects/py4ds_project'"
     },
     "execution_count": 10,
     "metadata": {},
     "output_type": "execute_result"
    }
   ],
   "source": [
    "%pwd"
   ],
   "metadata": {
    "collapsed": false,
    "ExecuteTime": {
     "end_time": "2023-10-01T04:31:16.977220Z",
     "start_time": "2023-10-01T04:31:16.973519Z"
    }
   },
   "id": "9f72790a30a5d7bb"
  },
  {
   "cell_type": "code",
   "execution_count": 11,
   "outputs": [],
   "source": [
    "#%pip install -r requirements.txt"
   ],
   "metadata": {
    "collapsed": false,
    "ExecuteTime": {
     "end_time": "2023-10-01T04:31:16.982996Z",
     "start_time": "2023-10-01T04:31:16.979193Z"
    }
   },
   "id": "aafceae108f9c26a"
  },
  {
   "cell_type": "code",
   "execution_count": null,
   "outputs": [],
   "source": [
    "a = 6\n",
    "b = 7"
   ],
   "metadata": {
    "collapsed": false,
    "is_executing": true
   },
   "id": "70394d6891ec2e1e"
  },
  {
   "cell_type": "code",
   "execution_count": 16,
   "outputs": [],
   "source": [
    "c = a + b"
   ],
   "metadata": {
    "collapsed": false,
    "ExecuteTime": {
     "end_time": "2023-10-01T04:32:19.119624Z",
     "start_time": "2023-10-01T04:32:19.114857Z"
    }
   },
   "id": "dac78f6187a90540"
  },
  {
   "cell_type": "code",
   "execution_count": 17,
   "outputs": [
    {
     "data": {
      "text/plain": "169"
     },
     "execution_count": 17,
     "metadata": {},
     "output_type": "execute_result"
    }
   ],
   "source": [
    "c**2"
   ],
   "metadata": {
    "collapsed": false,
    "ExecuteTime": {
     "end_time": "2023-10-01T04:32:19.906058Z",
     "start_time": "2023-10-01T04:32:19.888586Z"
    }
   },
   "id": "2d2d2f3df151ba92"
  },
  {
   "cell_type": "code",
   "execution_count": null,
   "outputs": [],
   "source": [],
   "metadata": {
    "collapsed": false
   },
   "id": "1418bd2e9b5f21e5"
  }
 ],
 "metadata": {
  "kernelspec": {
   "display_name": "Python 3",
   "language": "python",
   "name": "python3"
  },
  "language_info": {
   "codemirror_mode": {
    "name": "ipython",
    "version": 2
   },
   "file_extension": ".py",
   "mimetype": "text/x-python",
   "name": "python",
   "nbconvert_exporter": "python",
   "pygments_lexer": "ipython2",
   "version": "2.7.6"
  }
 },
 "nbformat": 4,
 "nbformat_minor": 5
}
